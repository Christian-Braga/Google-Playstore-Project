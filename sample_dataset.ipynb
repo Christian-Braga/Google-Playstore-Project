{
 "cells": [
  {
   "cell_type": "code",
   "execution_count": 1,
   "metadata": {},
   "outputs": [],
   "source": [
    "import pandas as pd"
   ]
  },
  {
   "cell_type": "code",
   "execution_count": 3,
   "metadata": {},
   "outputs": [],
   "source": [
    "#importing the dataset\n",
    "google_original_df = pd.read_csv(\"/Users/christianbraga/Desktop/draft_progetto programming/Google-Playstore.csv\")"
   ]
  },
  {
   "cell_type": "code",
   "execution_count": 5,
   "metadata": {},
   "outputs": [],
   "source": [
    "#the analysis will be performed on a subset composed by 10000 rows randomly selected from the main dataset.\n",
    "#I will export the file to have the new main csv document on which we will perform the analysis.\n",
    "\n",
    "google_sample_df = google_original_df.sample(n=10000)\n",
    "google_sample_df.to_csv('sample_google_df.csv',index = False)"
   ]
  }
 ],
 "metadata": {
  "kernelspec": {
   "display_name": "base",
   "language": "python",
   "name": "python3"
  },
  "language_info": {
   "codemirror_mode": {
    "name": "ipython",
    "version": 3
   },
   "file_extension": ".py",
   "mimetype": "text/x-python",
   "name": "python",
   "nbconvert_exporter": "python",
   "pygments_lexer": "ipython3",
   "version": "3.11.4"
  }
 },
 "nbformat": 4,
 "nbformat_minor": 2
}
